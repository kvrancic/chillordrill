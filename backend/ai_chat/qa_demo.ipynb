{
 "cells": [
  {
   "cell_type": "code",
   "execution_count": 11,
   "id": "9ec23ebd-307e-49f3-921b-70a14dfab13f",
   "metadata": {},
   "outputs": [],
   "source": [
    "from generate import generate_answer, get_prompt"
   ]
  },
  {
   "cell_type": "code",
   "execution_count": 2,
   "id": "a4343946-164c-46b6-b2fb-686ae4ba174a",
   "metadata": {},
   "outputs": [],
   "source": [
    "sample_reviews = [\n",
    "    \"Great course! The guest lectures from industry leaders were very inspiring.\",\n",
    "    \"Trop de théorie, pas assez de pratique. Les exemples étaient intéressants mais souvent trop abstraits.\",\n",
    "    \"The weekly presentations were challenging but helped solidify the course content.\",\n",
    "    \"Assignments were overwhelming at times, especially with group projects happening simultaneously.\",\n",
    "    \"Beaucoup trop de lectures chaque semaine. J'aurais préféré plus de travaux pratiques.\",\n",
    "    \"The course offers a lot of insights into AI product management, but I feel some content could be more up-to-date.\",\n",
    "    \"Excellent professor with clear explanations, but the pace of the course was too fast.\",\n",
    "    \"Les séances de coaching hebdomadaires ont été utiles pour clarifier des concepts difficiles.\",\n",
    "    \"Too much focus on theory rather than practical applications. Felt more like a lecture in AI basics than product management.\",\n",
    "    \"Overall, a solid course with knowledgeable instructors and relevant content. However, group coordination was difficult.\",\n",
    "    \"I felt lost during the agile development module; more examples would have been helpful.\",\n",
    "    \"Bon cours, mais difficile de tout suivre avec autant de travail. Les lectures étaient longues.\",\n",
    "    \"The emphasis on real-world cases is helpful, but the workload was too intense for a semester course.\",\n",
    "    \"Les professeurs étaient engagés et passionnés, ce qui a rendu les sessions plus intéressantes.\",\n",
    "    \"The product launch and marketing modules were excellent. I learned a lot about releasing AI products.\",\n",
    "    \"This course was harder than expected. The weekly engagement was intense, and I wish I had more time for self-study.\",\n",
    "    \"Le module sur la découverte des produits AI était particulièrement bien fait et très intéressant.\",\n",
    "    \"Very challenging course but highly informative. The lectures were well-structured and covered AI trends.\",\n",
    "    \"La charge de travail était beaucoup trop lourde, surtout les projets de groupe et les présentations.\",\n",
    "    \"Great mix of theory and practical insights. Weekly presentations forced us to stay on track.\",\n",
    "    \"The guest speakers were top-notch, sharing insights from real industry applications of AI product management.\",\n",
    "    \"Complex material but valuable insights into AI product strategy and development.\",\n",
    "    \"A must-take course for anyone looking to go into AI product management. A bit intense but very rewarding.\",\n",
    "    \"Les discussions de groupe ont aidé à approfondir la matière, mais la charge de travail était énorme.\",\n",
    "    \"A lot of focus on the business side of AI rather than the technical side, which was refreshing.\",\n",
    "    \"I struggled with the heavy reading load. Would have liked more guidance on which readings were essential.\",\n",
    "    \"Trop de théorie, j'aurais aimé plus d'exemples pratiques, en particulier pour le module de développement agile.\",\n",
    "    \"In-depth and informative, but the course could benefit from more interactive elements.\",\n",
    "    \"The professor's approach to product strategy was insightful. The projects were a bit overwhelming, though.\",\n",
    "    \"Course content was dense, covering product management and AI applications. Real-life case studies were very useful.\",\n",
    "    \"The course was demanding but I came away with a good understanding of AI product management.\",\n",
    "    \"The emphasis on practical exercises was great, but the simulation games were confusing at times.\",\n",
    "    \"I appreciated the structured approach, but the grading criteria could have been clearer.\",\n",
    "    \"Intéressant mais la charge de travail était bien trop lourde. Peu de temps pour approfondir les lectures.\",\n",
    "    \"Enjoyed the group projects, but coordinating with teammates took a lot of time.\",\n",
    "    \"I learned a lot about AI product vision and market fit. However, more guidance during projects would have been helpful.\",\n",
    "    \"The course introduced me to a lot of new concepts, but I felt rushed at times.\",\n",
    "    \"Professeur très compétent, mais les explications étaient parfois difficiles à suivre pour des débutants.\",\n",
    "    \"Loved the case studies and the hands-on approach, though it was intense. Final project was challenging but rewarding.\",\n",
    "    \"The agile methodologies module was really insightful, but there was too much overlap with other courses I am taking.\",\n",
    "    \"Focus on communication and teamwork in the class was great preparation for real-world AI product management.\",\n",
    "    \"Un bon équilibre entre la théorie et la pratique, mais les exigences pour les présentations hebdomadaires étaient élevées.\",\n",
    "    \"The assignments pushed us to apply concepts, but I wish there were more guidance on how to structure them.\",\n",
    "    \"Les études de cas étaient excellentes et les invités de l'industrie ont donné de bonnes perspectives.\",\n",
    "    \"Very comprehensive course, though the final presentation requirements were unclear.\",\n",
    "    \"One of the best courses I’ve taken, but I wish the material were updated to include more recent AI innovations.\",\n",
    "    \"Les lectures hebdomadaires étaient parfois répétitives, j'aurais aimé un peu plus de variété dans les sujets.\",\n",
    "    \"Weekly class discussions were useful, but some assignments felt redundant.\",\n",
    "    \"Challenging content, especially for students without a strong AI background. Guest lectures helped clarify complex topics.\",\n",
    "    \"The focus on human and ethical dimensions of AI was enlightening but could be developed further.\",\n",
    "    \"Some of the real-world examples were outdated. Otherwise, a solid course for aspiring product managers.\",\n",
    "    \"I wish the class had covered more about launching AI products in smaller companies.\",\n",
    "    \"The instructor’s experience in the industry was evident, which made the lectures very engaging and relevant.\",\n",
    "    \"Good balance of strategy and product management, but the workload could be spaced out better.\"\n",
    "]"
   ]
  },
  {
   "cell_type": "code",
   "execution_count": 3,
   "id": "3f0e5ca1-1aac-423d-9fbb-3c3944e7b182",
   "metadata": {},
   "outputs": [],
   "source": [
    "course_name = \"AI product management\""
   ]
  },
  {
   "cell_type": "code",
   "execution_count": 6,
   "id": "33c4bb4e-4dc6-4550-af03-793d7f45f7e2",
   "metadata": {},
   "outputs": [
    {
     "data": {
      "text/plain": [
       "\"Based on course reviews, I cannot provide an answer. I'll save your question and will ask it to students who took this course.\""
      ]
     },
     "execution_count": 6,
     "metadata": {},
     "output_type": "execute_result"
    }
   ],
   "source": [
    "question = \"Do TAs make pizza parties?\"\n",
    "generate_answer(question, sample_reviews, course_name)"
   ]
  },
  {
   "cell_type": "code",
   "execution_count": 7,
   "id": "66e99a4d-0ba9-4120-9cad-06d44003c4e3",
   "metadata": {},
   "outputs": [
    {
     "data": {
      "text/plain": [
       "'The workload in the AI Product Management course is described as intense and overwhelming, with many students mentioning a heavy reading load, challenging weekly presentations, and demanding group projects. Students reported feeling rushed and having little time for self-study. However, specific hours per week are not mentioned in the reviews.'"
      ]
     },
     "execution_count": 7,
     "metadata": {},
     "output_type": "execute_result"
    }
   ],
   "source": [
    "question = \"How is the workload in this course? What is aproximate number of hours spent per week?\"\n",
    "generate_answer(question, sample_reviews, course_name)"
   ]
  },
  {
   "cell_type": "code",
   "execution_count": 9,
   "id": "b7b937f0-297a-48e0-ac75-5ef483de4a1d",
   "metadata": {},
   "outputs": [
    {
     "data": {
      "text/plain": [
       "\"Based on course reviews, I cannot provide an answer. I'll save your question and will ask it to students who took this course.\""
      ]
     },
     "execution_count": 9,
     "metadata": {},
     "output_type": "execute_result"
    }
   ],
   "source": [
    "question = \"Can I actually create my own startup during this course?\"\n",
    "generate_answer(question, sample_reviews, course_name)"
   ]
  },
  {
   "cell_type": "code",
   "execution_count": 10,
   "id": "8bbc2888-099c-4248-aa01-72ea0e40eb7c",
   "metadata": {},
   "outputs": [
    {
     "data": {
      "text/plain": [
       "\"**Teaching Quality:**\\n\\n- The professor is described as excellent, knowledgeable, and competent, with clear explanations and insightful approaches to product strategy.\\n- Some students found the pace fast and explanations difficult for beginners.\\n- The professor's industry experience made lectures engaging and relevant.\\n- Overall, the teaching quality is positively reviewed, though some students desired more practical examples and updated content.\""
      ]
     },
     "execution_count": 10,
     "metadata": {},
     "output_type": "execute_result"
    }
   ],
   "source": [
    "question = \"What is the teaching quality? I hear that prof doesn't care about lectures.\"\n",
    "generate_answer(question, sample_reviews, course_name)"
   ]
  }
 ],
 "metadata": {
  "kernelspec": {
   "display_name": "Python 3 (ipykernel)",
   "language": "python",
   "name": "python3"
  },
  "language_info": {
   "codemirror_mode": {
    "name": "ipython",
    "version": 3
   },
   "file_extension": ".py",
   "mimetype": "text/x-python",
   "name": "python",
   "nbconvert_exporter": "python",
   "pygments_lexer": "ipython3",
   "version": "3.11.6"
  }
 },
 "nbformat": 4,
 "nbformat_minor": 5
}
